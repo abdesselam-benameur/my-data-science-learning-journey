{
 "cells": [
  {
   "cell_type": "markdown",
   "source": [
    "Tutorial I followed: [link](https://towardsdatascience.com/numpy-essentials-for-data-science-25dc39fae39)"
   ],
   "metadata": {
    "collapsed": false
   }
  },
  {
   "cell_type": "markdown",
   "source": [
    "# Installation and Import"
   ],
   "metadata": {
    "collapsed": false
   }
  },
  {
   "cell_type": "code",
   "execution_count": 2,
   "outputs": [],
   "source": [
    "# !pip install numpy\n",
    "import numpy as np"
   ],
   "metadata": {
    "collapsed": false,
    "pycharm": {
     "name": "#%%\n"
    }
   }
  },
  {
   "cell_type": "code",
   "execution_count": 3,
   "outputs": [
    {
     "data": {
      "text/plain": "'1.21.6'"
     },
     "execution_count": 3,
     "metadata": {},
     "output_type": "execute_result"
    }
   ],
   "source": [
    "# numpy version (mine is 1.21.1)\n",
    "np.__version__"
   ],
   "metadata": {
    "collapsed": false,
    "pycharm": {
     "name": "#%%\n"
    }
   }
  },
  {
   "cell_type": "markdown",
   "source": [
    "# Numpy array creation(N-Dimensional)"
   ],
   "metadata": {
    "collapsed": false
   }
  },
  {
   "cell_type": "markdown",
   "source": [
    "Unlike python lists, numpy arrays can only have one kind of data type(int, float, strings, etc).\n",
    "To convert python list to a NumPy array, use np.array() function"
   ],
   "metadata": {
    "collapsed": false
   }
  },
  {
   "cell_type": "code",
   "execution_count": 4,
   "outputs": [
    {
     "name": "stdout",
     "output_type": "stream",
     "text": [
      "[5 8 9]\n",
      "<class 'numpy.ndarray'>\n"
     ]
    }
   ],
   "source": [
    "l = [5, 8, 9]\n",
    "np_array = np.array(l)\n",
    "print(np_array)\n",
    "print(type(np_array))"
   ],
   "metadata": {
    "collapsed": false,
    "pycharm": {
     "name": "#%%\n"
    }
   }
  },
  {
   "cell_type": "code",
   "execution_count": 5,
   "outputs": [
    {
     "name": "stdout",
     "output_type": "stream",
     "text": [
      "[[1 2 3]\n",
      " [4 5 6]]\n",
      "<class 'numpy.ndarray'>\n"
     ]
    }
   ],
   "source": [
    "l2d = [[1,2,3],[4,5,6]]\n",
    "md_arr = np.array(l2d)\n",
    "print(md_arr)\n",
    "print(type(md_arr))"
   ],
   "metadata": {
    "collapsed": false,
    "pycharm": {
     "name": "#%%\n"
    }
   }
  },
  {
   "cell_type": "code",
   "execution_count": 6,
   "outputs": [
    {
     "name": "stdout",
     "output_type": "stream",
     "text": [
      "[[0. 0. 0. 0.]\n",
      " [0. 0. 0. 0.]\n",
      " [0. 0. 0. 0.]]\n"
     ]
    }
   ],
   "source": [
    "# Create a 2D array of zeros of shape 3×4\n",
    "z = np.zeros((3,4))\n",
    "print(z)"
   ],
   "metadata": {
    "collapsed": false,
    "pycharm": {
     "name": "#%%\n"
    }
   }
  },
  {
   "cell_type": "code",
   "execution_count": 7,
   "outputs": [
    {
     "name": "stdout",
     "output_type": "stream",
     "text": [
      "[0 1 2 3 4]\n",
      "[ 5  6  7  8  9 10 11 12 13 14 15 16 17 18 19]\n",
      "[ 5  9 13 17]\n"
     ]
    }
   ],
   "source": [
    "# Create an array of evenly spaced values (start, [stop, [step]])\n",
    "d = np.arange(5)\n",
    "print(d)\n",
    "\n",
    "d = np.arange(5, 20)\n",
    "print(d)\n",
    "\n",
    "d = np.arange(5, 20, 4)\n",
    "print(d)"
   ],
   "metadata": {
    "collapsed": false,
    "pycharm": {
     "name": "#%%\n"
    }
   }
  },
  {
   "cell_type": "code",
   "execution_count": 8,
   "outputs": [
    {
     "name": "stdout",
     "output_type": "stream",
     "text": [
      "[ 0. 10.]\n",
      "[ 0.  5. 10.]\n",
      "[ 0.          3.33333333  6.66666667 10.        ]\n",
      "[ 0.    1.25  2.5   3.75  5.    6.25  7.5   8.75 10.  ]\n",
      "[0.   0.25 0.5  0.75 1.   1.25 1.5  1.75 2.  ]\n"
     ]
    }
   ],
   "source": [
    "# Create an array of evenly spaced values (number of samples)\n",
    "d = np.linspace(0,10,2)\n",
    "print(d)\n",
    "\n",
    "d = np.linspace(0,10,3)\n",
    "print(d)\n",
    "\n",
    "d = np.linspace(0,10,4)\n",
    "print(d)\n",
    "\n",
    "d = np.linspace(0,10,9)\n",
    "print(d)\n",
    "\n",
    "d = np.linspace(0,2,9)\n",
    "print(d)"
   ],
   "metadata": {
    "collapsed": false,
    "pycharm": {
     "name": "#%%\n"
    }
   }
  },
  {
   "cell_type": "code",
   "execution_count": 9,
   "outputs": [
    {
     "name": "stdout",
     "output_type": "stream",
     "text": [
      "[[7 7]\n",
      " [7 7]]\n",
      "[[1 1 1 1 1]\n",
      " [1 1 1 1 1]]\n"
     ]
    }
   ],
   "source": [
    "# Create a constant array of sevens of shape 2 × 2\n",
    "sevens = np.full((2,2),7)\n",
    "print(sevens)\n",
    "\n",
    "# Create a constant array of ones of shape 2 × 5\n",
    "ones = np.full((2,5),1)\n",
    "print(ones)"
   ],
   "metadata": {
    "collapsed": false,
    "pycharm": {
     "name": "#%%\n"
    }
   }
  },
  {
   "cell_type": "code",
   "execution_count": 10,
   "outputs": [
    {
     "name": "stdout",
     "output_type": "stream",
     "text": [
      "[[1. 0.]\n",
      " [0. 1.]]\n",
      "[[1. 0. 0. 0.]\n",
      " [0. 1. 0. 0.]\n",
      " [0. 0. 1. 0.]\n",
      " [0. 0. 0. 1.]]\n"
     ]
    }
   ],
   "source": [
    "# Create a 2×2 identity matrix\n",
    "I2 = np.eye(2)\n",
    "print(I2)\n",
    "\n",
    "# Create a 4×4 identity matrix\n",
    "I4 = np.eye(4)\n",
    "print(I4)"
   ],
   "metadata": {
    "collapsed": false,
    "pycharm": {
     "name": "#%%\n"
    }
   }
  },
  {
   "cell_type": "markdown",
   "source": [
    "## np.random.rand(d0, d1, ..., dn)"
   ],
   "metadata": {
    "collapsed": false
   }
  },
  {
   "cell_type": "code",
   "execution_count": 11,
   "outputs": [
    {
     "name": "stdout",
     "output_type": "stream",
     "text": [
      "a1:\n",
      "[0.2202405  0.78704547]\n",
      "a2:\n",
      "[[0.2084212  0.67860123 0.70445231]\n",
      " [0.47686864 0.22262105 0.3179326 ]]\n",
      "a3:\n",
      "[[[0.11932221 0.51645891 0.68721872]\n",
      "  [0.27171493 0.31297042 0.18264833]]\n",
      "\n",
      " [[0.48950921 0.1556927  0.40795378]\n",
      "  [0.34277942 0.54298063 0.40031245]]]\n",
      "b:\n",
      "0.002333423745939145\n"
     ]
    }
   ],
   "source": [
    "# Random values in a given shape.\n",
    "# Create an array of the given shape and populate it with random samples from a uniform distribution over [0, 1).\n",
    "a1 = np.random.rand(2)\n",
    "a2 = np.random.rand(2,3)\n",
    "a3 = np.random.rand(2,2,3)\n",
    "b = np.random.rand()\n",
    "print('a1:')\n",
    "print(a1)\n",
    "print('a2:')\n",
    "print(a2)\n",
    "print('a3:')\n",
    "print(a3)\n",
    "print('b:')\n",
    "print(b)"
   ],
   "metadata": {
    "collapsed": false,
    "pycharm": {
     "name": "#%%\n"
    }
   }
  },
  {
   "cell_type": "markdown",
   "source": [
    "## np.random.randn(d0, d1, ..., dn)"
   ],
   "metadata": {
    "collapsed": false
   }
  },
  {
   "cell_type": "code",
   "execution_count": 12,
   "outputs": [
    {
     "name": "stdout",
     "output_type": "stream",
     "text": [
      "a1:\n",
      "[ 0.99693849 -1.4339577 ]\n",
      "a2:\n",
      "[[-0.01698086 -0.40885193 -1.14353109]\n",
      " [-0.38418481 -1.49904254 -0.10197304]]\n",
      "a3:\n",
      "[[[-2.43882992  0.56114558 -0.7249722 ]\n",
      "  [ 1.30451226 -0.62411416 -0.19738452]]\n",
      "\n",
      " [[ 2.04692831  0.90015732 -0.46189553]\n",
      "  [-1.37624182  1.39143743  1.1861816 ]]]\n",
      "b:\n",
      "0.9885294293066418\n"
     ]
    }
   ],
   "source": [
    "# Return a sample (or samples) from the “standard normal” distribution.\n",
    "# A (d0, d1, ..., dn)-shaped array of floating-point samples from the standard normal distribution,\n",
    "# or a single such float if no parameters were supplied.\n",
    "a1 = np.random.randn(2)\n",
    "a2 = np.random.randn(2,3)\n",
    "a3 = np.random.randn(2,2,3)\n",
    "b = np.random.randn()\n",
    "print('a1:')\n",
    "print(a1)\n",
    "print('a2:')\n",
    "print(a2)\n",
    "print('a3:')\n",
    "print(a3)\n",
    "print('b:')\n",
    "print(b)"
   ],
   "metadata": {
    "collapsed": false,
    "pycharm": {
     "name": "#%%\n"
    }
   }
  },
  {
   "cell_type": "markdown",
   "source": [
    "# Common Attributes"
   ],
   "metadata": {
    "collapsed": false
   }
  },
  {
   "cell_type": "code",
   "execution_count": 13,
   "outputs": [],
   "source": [
    "a = np.array([4,4,9])\n",
    "b = np.array([[4,4,9], [4, -1, 0]])\n",
    "c = np.array([\n",
    "                [\n",
    "                    [4,4,9],\n",
    "                    [4,1,0]\n",
    "                ],\n",
    "                [\n",
    "                    [1,4,5],\n",
    "                    [2,1,8]\n",
    "                ]\n",
    "             ])\n",
    "d = np.array(5)"
   ],
   "metadata": {
    "collapsed": false,
    "pycharm": {
     "name": "#%%\n"
    }
   }
  },
  {
   "cell_type": "code",
   "execution_count": 14,
   "outputs": [
    {
     "name": "stdout",
     "output_type": "stream",
     "text": [
      "(3,)\n",
      "(2, 3)\n",
      "(2, 2, 3)\n",
      "()\n"
     ]
    }
   ],
   "source": [
    "# shape — tells us the shape of the array.\n",
    "print(a.shape)\n",
    "print(b.shape)\n",
    "print(c.shape)\n",
    "print(d.shape)"
   ],
   "metadata": {
    "collapsed": false,
    "pycharm": {
     "name": "#%%\n"
    }
   }
  },
  {
   "cell_type": "code",
   "execution_count": 15,
   "outputs": [
    {
     "name": "stdout",
     "output_type": "stream",
     "text": [
      "3\n",
      "2\n",
      "2\n"
     ]
    }
   ],
   "source": [
    "# len() — returns the length of the array\n",
    "print(len(a))\n",
    "print(len(b))\n",
    "print(len(c))\n",
    "# print(len(d)) # this doesn't work => TypeError: len() of unsized object"
   ],
   "metadata": {
    "collapsed": false,
    "pycharm": {
     "name": "#%%\n"
    }
   }
  },
  {
   "cell_type": "code",
   "execution_count": 16,
   "outputs": [
    {
     "name": "stdout",
     "output_type": "stream",
     "text": [
      "1\n",
      "2\n",
      "3\n",
      "0\n"
     ]
    }
   ],
   "source": [
    "# ndim — returns the array dimension i.e. len(shape)\n",
    "print(a.ndim)\n",
    "print(b.ndim)\n",
    "print(c.ndim)\n",
    "print(d.ndim)"
   ],
   "metadata": {
    "collapsed": false,
    "pycharm": {
     "name": "#%%\n"
    }
   }
  },
  {
   "cell_type": "code",
   "execution_count": 92,
   "outputs": [
    {
     "name": "stdout",
     "output_type": "stream",
     "text": [
      "['4' '4' '9']\n",
      "[['4' '4' '9']\n",
      " ['4' '-1' '0']]\n"
     ]
    }
   ],
   "source": [
    "# astype() — converts the data type of the values to the specified type\n",
    "print(a.astype(str))\n",
    "print(b.astype(str))"
   ],
   "metadata": {
    "collapsed": false,
    "pycharm": {
     "name": "#%%\n"
    }
   }
  },
  {
   "cell_type": "code",
   "execution_count": 25,
   "outputs": [
    {
     "name": "stdout",
     "output_type": "stream",
     "text": [
      "float64\n",
      "<U32\n"
     ]
    }
   ],
   "source": [
    "# dtype — tells us the data type of the values in the array\n",
    "m = np.array([[4.6, 5], [1, -5.3]])\n",
    "print(m.dtype)\n",
    "print(m.astype(str).dtype)"
   ],
   "metadata": {
    "collapsed": false,
    "pycharm": {
     "name": "#%%\n"
    }
   }
  },
  {
   "cell_type": "code",
   "execution_count": 24,
   "outputs": [
    {
     "name": "stdout",
     "output_type": "stream",
     "text": [
      "[4 4 9] 3\n",
      "[[ 4  4  9]\n",
      " [ 4 -1  0]] 6\n",
      "[[[4 4 9]\n",
      "  [4 1 0]]\n",
      "\n",
      " [[1 4 5]\n",
      "  [2 1 8]]] 12\n"
     ]
    }
   ],
   "source": [
    "# size — gives the number of elements in the array.\n",
    "print(a, a.size)\n",
    "print(b, b.size)\n",
    "print(c, c.size)"
   ],
   "metadata": {
    "collapsed": false,
    "pycharm": {
     "name": "#%%\n"
    }
   }
  }
 ],
 "metadata": {
  "kernelspec": {
   "display_name": "Python 3",
   "language": "python",
   "name": "python3"
  },
  "language_info": {
   "codemirror_mode": {
    "name": "ipython",
    "version": 2
   },
   "file_extension": ".py",
   "mimetype": "text/x-python",
   "name": "python",
   "nbconvert_exporter": "python",
   "pygments_lexer": "ipython2",
   "version": "2.7.6"
  }
 },
 "nbformat": 4,
 "nbformat_minor": 0
}