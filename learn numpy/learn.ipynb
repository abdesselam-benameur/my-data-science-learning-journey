{
 "cells": [
  {
   "cell_type": "markdown",
   "source": [
    "Tutorial I followed: [link](https://towardsdatascience.com/numpy-essentials-for-data-science-25dc39fae39)"
   ],
   "metadata": {
    "collapsed": false
   }
  },
  {
   "cell_type": "markdown",
   "source": [
    "# Installation and Import"
   ],
   "metadata": {
    "collapsed": false
   }
  },
  {
   "cell_type": "code",
   "execution_count": 1,
   "outputs": [],
   "source": [
    "# !pip install numpy\n",
    "import numpy as np\n",
    "# !pip install matplotlib\n",
    "import matplotlib.pyplot as plt"
   ],
   "metadata": {
    "collapsed": false,
    "pycharm": {
     "name": "#%%\n"
    }
   }
  },
  {
   "cell_type": "code",
   "execution_count": 2,
   "outputs": [
    {
     "data": {
      "text/plain": "'1.21.6'"
     },
     "execution_count": 2,
     "metadata": {},
     "output_type": "execute_result"
    }
   ],
   "source": [
    "# numpy version (mine is 1.21.1)\n",
    "np.__version__"
   ],
   "metadata": {
    "collapsed": false,
    "pycharm": {
     "name": "#%%\n"
    }
   }
  },
  {
   "cell_type": "markdown",
   "source": [
    "# Numpy array creation(N-Dimensional)"
   ],
   "metadata": {
    "collapsed": false
   }
  },
  {
   "cell_type": "markdown",
   "source": [
    "Unlike python lists, numpy arrays can only have one kind of data type(int, float, strings, etc).\n",
    "To convert python list to a NumPy array, use np.array() function"
   ],
   "metadata": {
    "collapsed": false
   }
  },
  {
   "cell_type": "code",
   "execution_count": 3,
   "outputs": [
    {
     "name": "stdout",
     "output_type": "stream",
     "text": [
      "[5 8 9]\n",
      "<class 'numpy.ndarray'>\n"
     ]
    }
   ],
   "source": [
    "l = [5, 8, 9]\n",
    "np_array = np.array(l)\n",
    "print(np_array)\n",
    "print(type(np_array))"
   ],
   "metadata": {
    "collapsed": false,
    "pycharm": {
     "name": "#%%\n"
    }
   }
  },
  {
   "cell_type": "code",
   "execution_count": 4,
   "outputs": [
    {
     "name": "stdout",
     "output_type": "stream",
     "text": [
      "[[1 2 3]\n",
      " [4 5 6]]\n",
      "<class 'numpy.ndarray'>\n"
     ]
    }
   ],
   "source": [
    "l2d = [[1,2,3],[4,5,6]]\n",
    "md_arr = np.array(l2d)\n",
    "print(md_arr)\n",
    "print(type(md_arr))"
   ],
   "metadata": {
    "collapsed": false,
    "pycharm": {
     "name": "#%%\n"
    }
   }
  },
  {
   "cell_type": "code",
   "execution_count": 5,
   "outputs": [
    {
     "name": "stdout",
     "output_type": "stream",
     "text": [
      "[[0. 0. 0. 0.]\n",
      " [0. 0. 0. 0.]\n",
      " [0. 0. 0. 0.]]\n"
     ]
    }
   ],
   "source": [
    "# Create a 2D array of zeros of shape 3×4\n",
    "z = np.zeros((3,4))\n",
    "print(z)"
   ],
   "metadata": {
    "collapsed": false,
    "pycharm": {
     "name": "#%%\n"
    }
   }
  },
  {
   "cell_type": "code",
   "execution_count": 6,
   "outputs": [
    {
     "name": "stdout",
     "output_type": "stream",
     "text": [
      "[0 1 2 3 4]\n",
      "[ 5  6  7  8  9 10 11 12 13 14 15 16 17 18 19]\n",
      "[ 5  9 13 17]\n"
     ]
    }
   ],
   "source": [
    "# Create an array of evenly spaced values (start, [stop, [step]])\n",
    "d = np.arange(5)\n",
    "print(d)\n",
    "\n",
    "d = np.arange(5, 20)\n",
    "print(d)\n",
    "\n",
    "d = np.arange(5, 20, 4)\n",
    "print(d)"
   ],
   "metadata": {
    "collapsed": false,
    "pycharm": {
     "name": "#%%\n"
    }
   }
  },
  {
   "cell_type": "code",
   "execution_count": 7,
   "outputs": [
    {
     "name": "stdout",
     "output_type": "stream",
     "text": [
      "[ 0. 10.]\n",
      "[ 0.  5. 10.]\n",
      "[ 0.          3.33333333  6.66666667 10.        ]\n",
      "[ 0.    1.25  2.5   3.75  5.    6.25  7.5   8.75 10.  ]\n",
      "[0.   0.25 0.5  0.75 1.   1.25 1.5  1.75 2.  ]\n"
     ]
    }
   ],
   "source": [
    "# Create an array of evenly spaced values (number of samples)\n",
    "d = np.linspace(0,10,2)\n",
    "print(d)\n",
    "\n",
    "d = np.linspace(0,10,3)\n",
    "print(d)\n",
    "\n",
    "d = np.linspace(0,10,4)\n",
    "print(d)\n",
    "\n",
    "d = np.linspace(0,10,9)\n",
    "print(d)\n",
    "\n",
    "d = np.linspace(0,2,9)\n",
    "print(d)"
   ],
   "metadata": {
    "collapsed": false,
    "pycharm": {
     "name": "#%%\n"
    }
   }
  },
  {
   "cell_type": "code",
   "execution_count": 8,
   "outputs": [
    {
     "name": "stdout",
     "output_type": "stream",
     "text": [
      "[[7 7]\n",
      " [7 7]]\n",
      "[[1 1 1 1 1]\n",
      " [1 1 1 1 1]]\n"
     ]
    }
   ],
   "source": [
    "# Create a constant array of sevens of shape 2 × 2\n",
    "sevens = np.full((2,2),7)\n",
    "print(sevens)\n",
    "\n",
    "# Create a constant array of ones of shape 2 × 5\n",
    "ones = np.full((2,5),1)\n",
    "print(ones)"
   ],
   "metadata": {
    "collapsed": false,
    "pycharm": {
     "name": "#%%\n"
    }
   }
  },
  {
   "cell_type": "code",
   "execution_count": 9,
   "outputs": [
    {
     "name": "stdout",
     "output_type": "stream",
     "text": [
      "[[1. 0.]\n",
      " [0. 1.]]\n",
      "[[1. 0. 0. 0.]\n",
      " [0. 1. 0. 0.]\n",
      " [0. 0. 1. 0.]\n",
      " [0. 0. 0. 1.]]\n"
     ]
    }
   ],
   "source": [
    "# Create a 2×2 identity matrix\n",
    "I2 = np.eye(2)\n",
    "print(I2)\n",
    "\n",
    "# Create a 4×4 identity matrix\n",
    "I4 = np.eye(4)\n",
    "print(I4)"
   ],
   "metadata": {
    "collapsed": false,
    "pycharm": {
     "name": "#%%\n"
    }
   }
  },
  {
   "cell_type": "markdown",
   "source": [
    "## np.random.rand(d0, d1, ..., dn)"
   ],
   "metadata": {
    "collapsed": false
   }
  },
  {
   "cell_type": "code",
   "execution_count": 10,
   "outputs": [
    {
     "name": "stdout",
     "output_type": "stream",
     "text": [
      "a1:\n",
      "[0.71789023 0.13380405]\n",
      "a2:\n",
      "[[0.32984089 0.64462037 0.65099653]\n",
      " [0.00330489 0.98452613 0.75284842]]\n",
      "a3:\n",
      "[[[0.495173   0.44126632 0.92390351]\n",
      "  [0.02568857 0.73297289 0.80825647]]\n",
      "\n",
      " [[0.65280189 0.20914065 0.9087705 ]\n",
      "  [0.7898962  0.91081509 0.43153976]]]\n",
      "b:\n",
      "0.28356169160794253\n"
     ]
    }
   ],
   "source": [
    "# Random values in a given shape.\n",
    "# Create an array of the given shape and populate it with random samples from a uniform distribution over [0, 1).\n",
    "a1 = np.random.rand(2)\n",
    "a2 = np.random.rand(2,3)\n",
    "a3 = np.random.rand(2,2,3)\n",
    "b = np.random.rand()\n",
    "print('a1:')\n",
    "print(a1)\n",
    "print('a2:')\n",
    "print(a2)\n",
    "print('a3:')\n",
    "print(a3)\n",
    "print('b:')\n",
    "print(b)"
   ],
   "metadata": {
    "collapsed": false,
    "pycharm": {
     "name": "#%%\n"
    }
   }
  },
  {
   "cell_type": "markdown",
   "source": [
    "## np.random.randn(d0, d1, ..., dn)"
   ],
   "metadata": {
    "collapsed": false
   }
  },
  {
   "cell_type": "code",
   "execution_count": 11,
   "outputs": [
    {
     "name": "stdout",
     "output_type": "stream",
     "text": [
      "a1:\n",
      "[ 1.37377743 -1.05902934]\n",
      "a2:\n",
      "[[-0.33726202 -0.33003706  1.43499901]\n",
      " [ 0.03184187  0.47054778 -0.28391469]]\n",
      "a3:\n",
      "[[[-1.03666906  1.42796901 -1.37780644]\n",
      "  [ 1.22709497 -0.25592582 -0.55390449]]\n",
      "\n",
      " [[-0.27736411 -1.46918677  1.62910857]\n",
      "  [ 0.58928151  0.0986189   0.93095299]]]\n",
      "b:\n",
      "-1.6399449480799198\n"
     ]
    }
   ],
   "source": [
    "# Return a sample (or samples) from the “standard normal” distribution.\n",
    "# A (d0, d1, ..., dn)-shaped array of floating-point samples from the standard normal distribution,\n",
    "# or a single such float if no parameters were supplied.\n",
    "a1 = np.random.randn(2)\n",
    "a2 = np.random.randn(2,3)\n",
    "a3 = np.random.randn(2,2,3)\n",
    "b = np.random.randn()\n",
    "print('a1:')\n",
    "print(a1)\n",
    "print('a2:')\n",
    "print(a2)\n",
    "print('a3:')\n",
    "print(a3)\n",
    "print('b:')\n",
    "print(b)"
   ],
   "metadata": {
    "collapsed": false,
    "pycharm": {
     "name": "#%%\n"
    }
   }
  },
  {
   "cell_type": "markdown",
   "source": [
    "# Common Attributes"
   ],
   "metadata": {
    "collapsed": false
   }
  },
  {
   "cell_type": "code",
   "execution_count": 12,
   "outputs": [],
   "source": [
    "a = np.array([4,4,9])\n",
    "b = np.array([[4,4,9], [4, -1, 0]])\n",
    "c = np.array([\n",
    "                [\n",
    "                    [4,4,9],\n",
    "                    [4,1,0]\n",
    "                ],\n",
    "                [\n",
    "                    [1,4,5],\n",
    "                    [2,1,8]\n",
    "                ]\n",
    "             ])\n",
    "d = np.array(5)"
   ],
   "metadata": {
    "collapsed": false,
    "pycharm": {
     "name": "#%%\n"
    }
   }
  },
  {
   "cell_type": "code",
   "execution_count": 13,
   "outputs": [
    {
     "name": "stdout",
     "output_type": "stream",
     "text": [
      "(3,)\n",
      "(2, 3)\n",
      "(2, 2, 3)\n",
      "()\n"
     ]
    }
   ],
   "source": [
    "# shape — tells us the shape of the array.\n",
    "print(a.shape)\n",
    "print(b.shape)\n",
    "print(c.shape)\n",
    "print(d.shape)"
   ],
   "metadata": {
    "collapsed": false,
    "pycharm": {
     "name": "#%%\n"
    }
   }
  },
  {
   "cell_type": "code",
   "execution_count": 14,
   "outputs": [
    {
     "name": "stdout",
     "output_type": "stream",
     "text": [
      "3\n",
      "2\n",
      "2\n"
     ]
    }
   ],
   "source": [
    "# len() — returns the length of the array\n",
    "print(len(a))\n",
    "print(len(b))\n",
    "print(len(c))\n",
    "# print(len(d)) # this doesn't work => TypeError: len() of unsized object"
   ],
   "metadata": {
    "collapsed": false,
    "pycharm": {
     "name": "#%%\n"
    }
   }
  },
  {
   "cell_type": "code",
   "execution_count": 15,
   "outputs": [
    {
     "name": "stdout",
     "output_type": "stream",
     "text": [
      "1\n",
      "2\n",
      "3\n",
      "0\n"
     ]
    }
   ],
   "source": [
    "# ndim — returns the array dimension i.e. len(shape)\n",
    "print(a.ndim)\n",
    "print(b.ndim)\n",
    "print(c.ndim)\n",
    "print(d.ndim)"
   ],
   "metadata": {
    "collapsed": false,
    "pycharm": {
     "name": "#%%\n"
    }
   }
  },
  {
   "cell_type": "code",
   "execution_count": 16,
   "outputs": [
    {
     "name": "stdout",
     "output_type": "stream",
     "text": [
      "['4' '4' '9']\n",
      "[['4' '4' '9']\n",
      " ['4' '-1' '0']]\n"
     ]
    }
   ],
   "source": [
    "# astype() — converts the data type of the values to the specified type\n",
    "print(a.astype(str))\n",
    "print(b.astype(str))"
   ],
   "metadata": {
    "collapsed": false,
    "pycharm": {
     "name": "#%%\n"
    }
   }
  },
  {
   "cell_type": "code",
   "execution_count": 38,
   "outputs": [
    {
     "name": "stdout",
     "output_type": "stream",
     "text": [
      "float64\n",
      "<U32\n"
     ]
    }
   ],
   "source": [
    "# dtype — tells us the data type of the values in the array\n",
    "m = np.array([[4.6, 5], [1, -5.3]])\n",
    "print(m.dtype)\n",
    "print(m.astype(str).dtype)"
   ],
   "metadata": {
    "collapsed": false,
    "pycharm": {
     "name": "#%%\n"
    }
   }
  },
  {
   "cell_type": "code",
   "execution_count": 18,
   "outputs": [
    {
     "name": "stdout",
     "output_type": "stream",
     "text": [
      "[4 4 9] 3\n",
      "[[ 4  4  9]\n",
      " [ 4 -1  0]] 6\n",
      "[[[4 4 9]\n",
      "  [4 1 0]]\n",
      "\n",
      " [[1 4 5]\n",
      "  [2 1 8]]] 12\n"
     ]
    }
   ],
   "source": [
    "# size — gives the number of elements in the array.\n",
    "print(a, a.size)\n",
    "print(b, b.size)\n",
    "print(c, c.size)"
   ],
   "metadata": {
    "collapsed": false,
    "pycharm": {
     "name": "#%%\n"
    }
   }
  },
  {
   "cell_type": "markdown",
   "source": [
    "# Basic mathematical operations"
   ],
   "metadata": {
    "collapsed": false
   }
  },
  {
   "cell_type": "code",
   "execution_count": 19,
   "outputs": [
    {
     "name": "stdout",
     "output_type": "stream",
     "text": [
      "14.0\n"
     ]
    }
   ],
   "source": [
    "# dot product\n",
    "u = a - 5\n",
    "v = a / 2\n",
    "\n",
    "# this is dot product of the two vectors u and v (aka scalar product)\n",
    "print(np.dot(u, v))"
   ],
   "metadata": {
    "collapsed": false,
    "pycharm": {
     "name": "#%%\n"
    }
   }
  },
  {
   "cell_type": "code",
   "execution_count": 20,
   "outputs": [
    {
     "name": "stdout",
     "output_type": "stream",
     "text": [
      "u:\n",
      "[[-0.33726202 -0.33003706  1.43499901]\n",
      " [ 0.03184187  0.47054778 -0.28391469]] (2, 3)\n",
      "v:\n",
      "[4 4 9] (3,)\n",
      "\n",
      "np.dot(u, v) = [10.24579477 -0.54567366]\n",
      "np.matmul(u, v) = [10.24579477 -0.54567366]\n"
     ]
    }
   ],
   "source": [
    "# np.dot(u, v) is also used to perform matrix multiplication if u or v is a matrix (or both)\n",
    "# which is equivalent to np.matmul\n",
    "u = a2\n",
    "v = a\n",
    "print('u:')\n",
    "print(u, u.shape)\n",
    "print('v:')\n",
    "print(v, v.shape)\n",
    "\n",
    "print('\\nnp.dot(u, v) =', np.dot(u, v))\n",
    "print('np.matmul(u, v) =', np.matmul(u, v))"
   ],
   "metadata": {
    "collapsed": false,
    "pycharm": {
     "name": "#%%\n"
    }
   }
  },
  {
   "cell_type": "code",
   "execution_count": 29,
   "outputs": [
    {
     "data": {
      "text/plain": "[<matplotlib.lines.Line2D at 0x1cc93912bc8>]"
     },
     "execution_count": 29,
     "metadata": {},
     "output_type": "execute_result"
    },
    {
     "data": {
      "text/plain": "<Figure size 432x288 with 1 Axes>",
      "image/png": "[encoded data removed]"
     },
     "metadata": {
      "needs_background": "light"
     },
     "output_type": "display_data"
    }
   ],
   "source": [
    "x = np.linspace(1, np.e**4, 50)\n",
    "# if we give a value > 50, we will have a more precise graph of the log function\n",
    "y = np.log(x)\n",
    "\n",
    "plt.plot(x, y)"
   ],
   "metadata": {
    "collapsed": false,
    "pycharm": {
     "name": "#%%\n"
    }
   }
  },
  {
   "cell_type": "markdown",
   "source": [
    "## Statistical aggregate functions:"
   ],
   "metadata": {
    "collapsed": false
   }
  },
  {
   "cell_type": "code",
   "execution_count": 44,
   "outputs": [
    {
     "data": {
      "text/plain": "45"
     },
     "execution_count": 44,
     "metadata": {},
     "output_type": "execute_result"
    }
   ],
   "source": [
    "ten_first_integers = np.arange(10)\n",
    "ten_first_integers.sum()"
   ],
   "metadata": {
    "collapsed": false,
    "pycharm": {
     "name": "#%%\n"
    }
   }
  },
  {
   "cell_type": "code",
   "execution_count": 54,
   "outputs": [
    {
     "name": "stdout",
     "output_type": "stream",
     "text": [
      "[[23 43]\n",
      " [35  2]\n",
      " [ 3 11]\n",
      " [18 28]]\n",
      "43\n",
      "2\n",
      "20.375\n",
      "20.5\n",
      "[35 43]\n",
      "[43 35 11 28]\n"
     ]
    }
   ],
   "source": [
    "# generate a matrix 4x2 of integers in [0, 50[\n",
    "tmp = (np.random.rand(4,2) * 50).astype(int)\n",
    "print(tmp)\n",
    "\n",
    "print(tmp.max())\n",
    "print(tmp.min())\n",
    "print(tmp.mean())\n",
    "print(np.median(tmp))\n",
    "# The \"median\" is the \"middle\" value in the list of numbers\n",
    "# The \"mode\" is the value that occurs most often\n",
    "\n",
    "# You can specify on which axis you want the aggregation function to be computed.\n",
    "# For example, you can find the minimum value within each column by specifying axis=0.\n",
    "\n",
    "# find the max of each column\n",
    "print(tmp.max(axis=0))\n",
    "# find the max of each row\n",
    "print(tmp.max(axis=1))"
   ],
   "metadata": {
    "collapsed": false,
    "pycharm": {
     "name": "#%%\n"
    }
   }
  },
  {
   "cell_type": "code",
   "execution_count": null,
   "outputs": [],
   "source": [],
   "metadata": {
    "collapsed": false,
    "pycharm": {
     "name": "#%%\n"
    }
   }
  }
 ],
 "metadata": {
  "kernelspec": {
   "display_name": "Python 3",
   "language": "python",
   "name": "python3"
  },
  "language_info": {
   "codemirror_mode": {
    "name": "ipython",
    "version": 2
   },
   "file_extension": ".py",
   "mimetype": "text/x-python",
   "name": "python",
   "nbconvert_exporter": "python",
   "pygments_lexer": "ipython2",
   "version": "2.7.6"
  }
 },
 "nbformat": 4,
 "nbformat_minor": 0
}