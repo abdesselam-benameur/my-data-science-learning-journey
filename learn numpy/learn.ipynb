{
 "cells": [
  {
   "cell_type": "markdown",
   "source": [
    "Tutorial I followed: [link](https://towardsdatascience.com/numpy-essentials-for-data-science-25dc39fae39)"
   ],
   "metadata": {
    "collapsed": false
   }
  },
  {
   "cell_type": "markdown",
   "source": [
    "# Installation and Import"
   ],
   "metadata": {
    "collapsed": false
   }
  },
  {
   "cell_type": "code",
   "execution_count": 3,
   "outputs": [],
   "source": [
    "# !pip install numpy\n",
    "import numpy as np"
   ],
   "metadata": {
    "collapsed": false,
    "pycharm": {
     "name": "#%%\n"
    }
   }
  },
  {
   "cell_type": "code",
   "execution_count": 5,
   "outputs": [
    {
     "data": {
      "text/plain": "'1.21.1'"
     },
     "execution_count": 5,
     "metadata": {},
     "output_type": "execute_result"
    }
   ],
   "source": [
    "# numpy version (mine is 1.21.1)\n",
    "np.__version__"
   ],
   "metadata": {
    "collapsed": false,
    "pycharm": {
     "name": "#%%\n"
    }
   }
  },
  {
   "cell_type": "markdown",
   "source": [
    "# Numpy array creation(N-Dimensional)"
   ],
   "metadata": {
    "collapsed": false
   }
  },
  {
   "cell_type": "markdown",
   "source": [
    "Unlike python lists, numpy arrays can only have one kind of data type(int, float, strings, etc).\n",
    "To convert python list to a NumPy array, use np.array() function"
   ],
   "metadata": {
    "collapsed": false
   }
  },
  {
   "cell_type": "code",
   "execution_count": 5,
   "outputs": [
    {
     "name": "stdout",
     "output_type": "stream",
     "text": [
      "[5 8 9]\n",
      "<class 'numpy.ndarray'>\n"
     ]
    }
   ],
   "source": [
    "l = [5, 8, 9]\n",
    "np_array = np.array(l)\n",
    "print(np_array)\n",
    "print(type(np_array))"
   ],
   "metadata": {
    "collapsed": false,
    "pycharm": {
     "name": "#%%\n"
    }
   }
  },
  {
   "cell_type": "code",
   "execution_count": 8,
   "outputs": [
    {
     "name": "stdout",
     "output_type": "stream",
     "text": [
      "[[1 2 3]\n",
      " [4 5 6]]\n",
      "<class 'numpy.ndarray'>\n"
     ]
    }
   ],
   "source": [
    "l2d = [[1,2,3],[4,5,6]]\n",
    "md_arr = np.array(l2d)\n",
    "print(md_arr)\n",
    "print(type(md_arr))"
   ],
   "metadata": {
    "collapsed": false,
    "pycharm": {
     "name": "#%%\n"
    }
   }
  },
  {
   "cell_type": "code",
   "execution_count": 15,
   "outputs": [
    {
     "name": "stdout",
     "output_type": "stream",
     "text": [
      "[[0. 0. 0. 0.]\n",
      " [0. 0. 0. 0.]\n",
      " [0. 0. 0. 0.]]\n",
      "(3, 4)\n"
     ]
    }
   ],
   "source": [
    "# Create a 2D array of zeros of shape 3×4\n",
    "z = np.zeros((3,4))\n",
    "print(z)"
   ],
   "metadata": {
    "collapsed": false,
    "pycharm": {
     "name": "#%%\n"
    }
   }
  },
  {
   "cell_type": "code",
   "execution_count": 18,
   "outputs": [
    {
     "name": "stdout",
     "output_type": "stream",
     "text": [
      "[0 1 2 3 4]\n",
      "[ 5  6  7  8  9 10 11 12 13 14 15 16 17 18 19]\n",
      "[ 5  9 13 17]\n"
     ]
    }
   ],
   "source": [
    "# Create an array of evenly spaced values (start, [stop, [step]])\n",
    "d = np.arange(5)\n",
    "print(d)\n",
    "\n",
    "d = np.arange(5, 20)\n",
    "print(d)\n",
    "\n",
    "d = np.arange(5, 20, 4)\n",
    "print(d)"
   ],
   "metadata": {
    "collapsed": false,
    "pycharm": {
     "name": "#%%\n"
    }
   }
  },
  {
   "cell_type": "code",
   "execution_count": 24,
   "outputs": [
    {
     "name": "stdout",
     "output_type": "stream",
     "text": [
      "[ 0. 10.]\n",
      "[ 0.  5. 10.]\n",
      "[ 0.          3.33333333  6.66666667 10.        ]\n",
      "[ 0.    1.25  2.5   3.75  5.    6.25  7.5   8.75 10.  ]\n",
      "[0.   0.25 0.5  0.75 1.   1.25 1.5  1.75 2.  ]\n"
     ]
    }
   ],
   "source": [
    "# Create an array of evenly spaced values (number of samples)\n",
    "d = np.linspace(0,10,2)\n",
    "print(d)\n",
    "\n",
    "d = np.linspace(0,10,3)\n",
    "print(d)\n",
    "\n",
    "d = np.linspace(0,10,4)\n",
    "print(d)\n",
    "\n",
    "d = np.linspace(0,10,9)\n",
    "print(d)\n",
    "\n",
    "d = np.linspace(0,2,9)\n",
    "print(d)"
   ],
   "metadata": {
    "collapsed": false,
    "pycharm": {
     "name": "#%%\n"
    }
   }
  },
  {
   "cell_type": "code",
   "execution_count": 30,
   "outputs": [
    {
     "name": "stdout",
     "output_type": "stream",
     "text": [
      "[[7 7]\n",
      " [7 7]]\n",
      "[[1 1 1 1 1]\n",
      " [1 1 1 1 1]]\n"
     ]
    }
   ],
   "source": [
    "# Create a constant array of sevens of shape 2 × 2\n",
    "sevens = np.full((2,2),7)\n",
    "print(sevens)\n",
    "\n",
    "# Create a constant array of ones of shape 2 × 5\n",
    "ones = np.full((2,5),1)\n",
    "print(ones)"
   ],
   "metadata": {
    "collapsed": false,
    "pycharm": {
     "name": "#%%\n"
    }
   }
  },
  {
   "cell_type": "code",
   "execution_count": 31,
   "outputs": [
    {
     "name": "stdout",
     "output_type": "stream",
     "text": [
      "[[1. 0.]\n",
      " [0. 1.]]\n",
      "[[1. 0. 0. 0.]\n",
      " [0. 1. 0. 0.]\n",
      " [0. 0. 1. 0.]\n",
      " [0. 0. 0. 1.]]\n"
     ]
    }
   ],
   "source": [
    "# Create a 2×2 identity matrix\n",
    "I2 = np.eye(2)\n",
    "print(I2)\n",
    "\n",
    "# Create a 4×4 identity matrix\n",
    "I4 = np.eye(4)\n",
    "print(I4)"
   ],
   "metadata": {
    "collapsed": false,
    "pycharm": {
     "name": "#%%\n"
    }
   }
  },
  {
   "cell_type": "markdown",
   "source": [
    "## np.random.rand(d0, d1, ..., dn)"
   ],
   "metadata": {
    "collapsed": false
   }
  },
  {
   "cell_type": "code",
   "execution_count": 54,
   "outputs": [
    {
     "name": "stdout",
     "output_type": "stream",
     "text": [
      "a1:\n",
      "[0.63978286 0.83528408]\n",
      "a2:\n",
      "[[0.04035973 0.46938334 0.84465868]\n",
      " [0.16110399 0.66537114 0.44208103]]\n",
      "a3:\n",
      "[[[0.45600711 0.35374305 0.42502304]\n",
      "  [0.25437157 0.77483495 0.55992523]]\n",
      "\n",
      " [[0.09396547 0.71884635 0.37185489]\n",
      "  [0.97412541 0.81748204 0.79641078]]]\n",
      "b:\n",
      "0.7439367491022363\n"
     ]
    }
   ],
   "source": [
    "# Random values in a given shape.\n",
    "# Create an array of the given shape and populate it with random samples from a uniform distribution over [0, 1).\n",
    "a1 = np.random.rand(2)\n",
    "a2 = np.random.rand(2,3)\n",
    "a3 = np.random.rand(2,2,3)\n",
    "b = np.random.rand()\n",
    "print('a1:')\n",
    "print(a1)\n",
    "print('a2:')\n",
    "print(a2)\n",
    "print('a3:')\n",
    "print(a3)\n",
    "print('b:')\n",
    "print(b)"
   ],
   "metadata": {
    "collapsed": false,
    "pycharm": {
     "name": "#%%\n"
    }
   }
  },
  {
   "cell_type": "markdown",
   "source": [
    "## np.random.randn(d0, d1, ..., dn)"
   ],
   "metadata": {
    "collapsed": false
   }
  },
  {
   "cell_type": "code",
   "execution_count": 59,
   "outputs": [
    {
     "name": "stdout",
     "output_type": "stream",
     "text": [
      "a1:\n",
      "[-0.59233389 -0.13654059]\n",
      "a2:\n",
      "[[-0.03930472 -0.59186681 -0.81329192]\n",
      " [ 0.05401774 -0.53543081 -1.26624446]]\n",
      "a3:\n",
      "[[[ 1.97841585  0.9360122   1.23330707]\n",
      "  [ 1.57797902 -1.15692719  1.47630287]]\n",
      "\n",
      " [[ 1.19403475 -0.52765218 -0.63772838]\n",
      "  [ 0.07964992  0.08772296  1.30945911]]]\n",
      "b:\n",
      "1.3146345851657093\n"
     ]
    }
   ],
   "source": [
    "# Return a sample (or samples) from the “standard normal” distribution.\n",
    "# A (d0, d1, ..., dn)-shaped array of floating-point samples from the standard normal distribution,\n",
    "# or a single such float if no parameters were supplied.\n",
    "a1 = np.random.randn(2)\n",
    "a2 = np.random.randn(2,3)\n",
    "a3 = np.random.randn(2,2,3)\n",
    "b = np.random.randn()\n",
    "print('a1:')\n",
    "print(a1)\n",
    "print('a2:')\n",
    "print(a2)\n",
    "print('a3:')\n",
    "print(a3)\n",
    "print('b:')\n",
    "print(b)"
   ],
   "metadata": {
    "collapsed": false,
    "pycharm": {
     "name": "#%%\n"
    }
   }
  },
  {
   "cell_type": "code",
   "execution_count": null,
   "outputs": [],
   "source": [],
   "metadata": {
    "collapsed": false,
    "pycharm": {
     "name": "#%%\n"
    }
   }
  }
 ],
 "metadata": {
  "kernelspec": {
   "display_name": "Python 3",
   "language": "python",
   "name": "python3"
  },
  "language_info": {
   "codemirror_mode": {
    "name": "ipython",
    "version": 2
   },
   "file_extension": ".py",
   "mimetype": "text/x-python",
   "name": "python",
   "nbconvert_exporter": "python",
   "pygments_lexer": "ipython2",
   "version": "2.7.6"
  }
 },
 "nbformat": 4,
 "nbformat_minor": 0
}